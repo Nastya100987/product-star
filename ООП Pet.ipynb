{
  "nbformat": 4,
  "nbformat_minor": 0,
  "metadata": {
    "colab": {
      "provenance": [],
      "include_colab_link": true
    },
    "kernelspec": {
      "name": "python3",
      "display_name": "Python 3"
    },
    "language_info": {
      "name": "python"
    }
  },
  "cells": [
    {
      "cell_type": "markdown",
      "metadata": {
        "id": "view-in-github",
        "colab_type": "text"
      },
      "source": [
        "<a href=\"https://colab.research.google.com/github/Nastya100987/product-star/blob/main/%D0%9E%D0%9E%D0%9F%20Pet.ipynb\" target=\"_parent\"><img src=\"https://colab.research.google.com/assets/colab-badge.svg\" alt=\"Open In Colab\"/></a>"
      ]
    },
    {
      "cell_type": "code",
      "execution_count": 3,
      "metadata": {
        "id": "pfKjrNCTcElC",
        "colab": {
          "base_uri": "https://localhost:8080/"
        },
        "outputId": "c70ead6e-3619-4677-82c7-219cfb6d9a8a"
      },
      "outputs": [
        {
          "output_type": "stream",
          "name": "stdout",
          "text": [
            "Buddy (Male), Dog, 2 years old\n",
            "Woof!\n",
            "Fluffy (Female), Cat, 3 years old\n",
            "Meow!\n"
          ]
        }
      ],
      "source": [
        "class Pet:\n",
        "  def __init__(self, name, species, age, gender):\n",
        "    self._name = name\n",
        "    self._species = species\n",
        "    self._age = age\n",
        "    self._gender = gender\n",
        "\n",
        "  def get_info(self):\n",
        "    print(f\"{self._name} ({self._gender}), {self._species}, {self._age} years old\")\n",
        "\n",
        "class Dog(Pet):\n",
        "  def __init__(self, name, age, gender, breed):\n",
        "    super().__init__(name, \"Dog\", age, gender)\n",
        "    self._breed = breed\n",
        "  def bark(self):\n",
        "    print(\"Woof!\")\n",
        "class Cat(Pet):\n",
        "  def __init__(self, name, age, gender, color):\n",
        "    super().__init__(name, \"Cat\", age, gender)\n",
        "    self._color = color\n",
        "  def meow(self):\n",
        "    print(\"Meow!\")\n",
        "\n",
        "dog = Dog(\"Buddy\", 2, \"Male\", \"Golden Retriever\")\n",
        "cat = Cat(\"Fluffy\", 3, \"Female\", \"Calico\")\n",
        "\n",
        "dog.get_info()\n",
        "dog.bark()\n",
        "cat.get_info()\n",
        "cat.meow()"
      ]
    },
    {
      "cell_type": "markdown",
      "source": [
        "# Воркшоп"
      ],
      "metadata": {
        "id": "mpPRm29ScFhh"
      }
    }
  ]
}